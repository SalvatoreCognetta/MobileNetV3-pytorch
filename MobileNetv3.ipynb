{
 "cells": [
  {
   "cell_type": "markdown",
   "source": [
    "# Setup the environment"
   ],
   "metadata": {}
  },
  {
   "cell_type": "markdown",
   "source": [
    "## Import"
   ],
   "metadata": {}
  },
  {
   "cell_type": "code",
   "execution_count": 21,
   "source": [
    "# NN stuff\n",
    "import torch\n",
    "from torch import nn\n",
    "from torch.nn import functional as F\n",
    "from torch.utils.data import Dataset, DataLoader\n",
    "\n",
    "from datetime import datetime\n",
    "from typing import Tuple, List, Optional\n",
    "from dataclasses import dataclass, fields, astuple\n",
    "\n",
    "# For cute animation bar\n",
    "from pprint import pprint\n",
    "from tqdm.auto import tqdm\n",
    "import matplotlib.pyplot as plt\n",
    "\n",
    "import json\n",
    "import random\n",
    "import numpy as np\n",
    "import pandas as pd\n",
    "\n",
    "import csv\n",
    "import os"
   ],
   "outputs": [],
   "metadata": {}
  },
  {
   "cell_type": "markdown",
   "source": [
    "## Path"
   ],
   "metadata": {}
  },
  {
   "cell_type": "code",
   "execution_count": null,
   "source": [
    "if 'google.colab' in str(get_ipython()):\n",
    "    print('Running on CoLab')\n",
    "    root_drive  = \"/content/drive/MyDrive/Colab Notebooks/MobileNetV3/\"\n",
    "    from google.colab import drive\n",
    "    drive.mount('/content/drive')\n",
    "else:\n",
    "    print('Not running on CoLab')\n",
    "    root_drive = './'\n",
    "\n",
    "\n",
    "spec_small_path = root_drive +  \"specification/mobilenetv3-small.json\"\n",
    "spec_large_path = root_drive +  \"specification/mobilenetv3-large.json\""
   ],
   "outputs": [],
   "metadata": {}
  },
  {
   "cell_type": "markdown",
   "source": [
    "## Utils"
   ],
   "metadata": {}
  },
  {
   "cell_type": "code",
   "execution_count": 23,
   "source": [
    "# MobileNet Specification\n",
    "@dataclass\n",
    "class MobileNetSpecification:\n",
    "    '''Class that contains MobileNet specifications.'''\n",
    "    kernel: int\n",
    "    input_size: int\n",
    "    exp_size: int\n",
    "    out_size: int\n",
    "    se: bool\n",
    "    nl: str\n",
    "    stride: nn.Module\n",
    "\n",
    "    # The __post_init__ method, will be the last thing called by __init__.\n",
    "    def __post_init__(self):\n",
    "        self.kernel     = int(self.kernel)\n",
    "        self.input_size = int(self.input_size)\n",
    "        self.exp_size = int(self.exp_size)\n",
    "        self.out_size = int(self.out_size)\n",
    "        self.se  = bool(self.se)\n",
    "        self.nl  = nn.ReLU(inplace=True) if self.nl == \"relu\" else Hswish(inplace=True)\n",
    "        self.stride = int(self.stride)\n",
    "\n",
    "    def __iter__(self):\n",
    "        yield from astuple(self)\n",
    "\n",
    "    @staticmethod\n",
    "    def get_header() -> List[str]:\n",
    "        return [field.name for field in fields(MobileNetSpecification)]"
   ],
   "outputs": [],
   "metadata": {}
  },
  {
   "cell_type": "code",
   "execution_count": null,
   "source": [
    "#swish"
   ],
   "outputs": [],
   "metadata": {}
  },
  {
   "cell_type": "markdown",
   "source": [
    "# MobileNetv3"
   ],
   "metadata": {}
  },
  {
   "cell_type": "code",
   "execution_count": 24,
   "source": [
    "class Hsigmoid(nn.Module):\n",
    "    def __init__(self, inplace=True):\n",
    "        super(Hsigmoid, self).__init__()\n",
    "        self.inplace = inplace\n",
    "\n",
    "    def forward(self, x):\n",
    "        return F.relu6(x + 3, inplace=self.inplace) / 6"
   ],
   "outputs": [],
   "metadata": {}
  },
  {
   "cell_type": "code",
   "execution_count": 25,
   "source": [
    "class Hswish(nn.Module):\n",
    "    def __init__(self, inplace=True):\n",
    "        super(Hswish, self).__init__()\n",
    "        self.hsigmoid = Hsigmoid(inplace)\n",
    "\n",
    "    def forward(self, x):\n",
    "        return x * self.hsigmoid(x)"
   ],
   "outputs": [],
   "metadata": {}
  },
  {
   "cell_type": "code",
   "execution_count": 26,
   "source": [
    "class SeModule(nn.Module):\n",
    "    def __init__(self, channel, reduction=4):\n",
    "        super(SeModule, self).__init__()\n",
    "        self.avg_pool = nn.AdaptiveAvgPool2d(1)\n",
    "\n",
    "        self.se = nn.Sequential(\n",
    "            nn.Linear(channel, channel // reduction, bias=False),\n",
    "            nn.ReLU(inplace=True),\n",
    "            nn.Linear(channel // reduction, channel, bias=False),\n",
    "            Hsigmoid()\n",
    "        )\n",
    "\n",
    "    def forward(self, x):\n",
    "        b, c, _, _ = x.size()\n",
    "        y = self.avg_pool(x).view(b, c)\n",
    "        y = self.se(y).view(b, c, 1, 1)\n",
    "        return x * y.expand_as(x)\n",
    "\n",
    "\n",
    "\n",
    "# class SeModule(nn.Module):\n",
    "#     def __init__(self, in_size, reduction=4):\n",
    "#         super(SeModule, self).__init__()\n",
    "#         self.se = nn.Sequential(\n",
    "#             nn.AdaptiveAvgPool2d(1),\n",
    "#             nn.Conv2d(in_size, in_size // reduction, kernel_size=1, stride=1, padding=0, bias=False),\n",
    "#             nn.BatchNorm2d(in_size // reduction),\n",
    "#             nn.ReLU(inplace=True),\n",
    "#             nn.Conv2d(in_size // reduction, in_size, kernel_size=1, stride=1, padding=0, bias=False),\n",
    "#             nn.BatchNorm2d(in_size),\n",
    "#             hsigmoid()\n",
    "#         )\n",
    "\n",
    "#     def forward(self, x):\n",
    "#         return x * self.se(x)"
   ],
   "outputs": [],
   "metadata": {}
  },
  {
   "cell_type": "code",
   "execution_count": 28,
   "source": [
    "class Bottleneck(nn.Module):\n",
    "    def __init__(self, input_size:int, out_size:int, spec:MobileNetSpecification):\n",
    "        super(Bottleneck, self).__init__()\n",
    "        self.spec = spec\n",
    "        \n",
    "        padding = (spec.kernel - 1) // 2\n",
    "        self.use_res_connect = spec.stride == 1 and input_size == out_size\n",
    "\n",
    "        # PointWise\n",
    "        self.conv2d_pw  = nn.Conv2d(input_size, spec.exp_size, kernel_size=1, stride=1, padding=0, bias=False)\n",
    "        self.batch_norm = nn.BatchNorm2d(spec.exp_size)\n",
    "        self.non_lin    = spec.nl\n",
    "\n",
    "        # DepthWise\n",
    "        self.conv2d_dw  = nn.Conv2d(spec.exp_size, spec.exp_size, spec.kernel, spec.stride, padding, groups=spec.exp_size,bias=False)\n",
    "        self.squeeze_ex = SeModule(spec.exp_size)\n",
    "\n",
    "        # PointWise-linear\n",
    "        self.conv2d_pw_linear  = nn.Conv2d(spec.exp_size, out_size, kernel_size=1, stride=1, padding=0, bias=False)\n",
    "        self.batch_norm_linear = nn.BatchNorm2d(out_size)\n",
    "\n",
    "    def forward(self, x):\n",
    "        # PointWise\n",
    "        out = self.conv2d_pw(x)\n",
    "        out = self.batch_norm(out)\n",
    "        out = self.non_lin(out)\n",
    "\n",
    "        # DepthWise\n",
    "        out = self.conv2d_dw(out)\n",
    "        out = self.batch_norm(out)\n",
    "        if self.spec.se: out = self.squeeze_ex(out)\n",
    "        out = self.non_lin(out)\n",
    "\n",
    "        # PointWise-linear\n",
    "        out = self.conv2d_pw_linear(out)\n",
    "        out = self.batch_norm_linear(out)\n",
    "\n",
    "        out = x + out if self.use_res_connect else out\n",
    "\n",
    "        return out"
   ],
   "outputs": [],
   "metadata": {}
  },
  {
   "cell_type": "code",
   "execution_count": 29,
   "source": [
    "class MobileNetV3(nn.Module):\n",
    "    def __init__(self, input_channel=16,  mode='small'):\n",
    "        super(MobileNetV3, self).__init__()\n",
    "        self.mode = mode\n",
    "\n",
    "        self.specifications = self.load_specifications()\n",
    "\n",
    "        # self.features = [conv_bn(3, input_channel, 2, nlin_layer=Hswish)]\n",
    "        self.build_mobile_blocks()\n",
    "        self.build_last_layers(input_channel=96, last_channel=576)\n",
    "        self.classifier = []\n",
    "    \n",
    "    def load_specifications(self) -> List[MobileNetSpecification]:\n",
    "        if self.mode == 'small':\n",
    "            self.spec_file = spec_small_path\n",
    "        else:\n",
    "            self.spec_file = spec_large_path\n",
    "        # Load specifications\n",
    "        with open(self.spec_file, \"r\") as spec_f:\n",
    "            data = json.load(spec_f)\n",
    "            specifications = [MobileNetSpecification(*spec.values()) for spec in data]\n",
    "        return specifications\n",
    "\n",
    "    def build_mobile_blocks(self):\n",
    "        # Building mobile blocks\n",
    "        for spec in self.specifications:\n",
    "            input_channel   = self.spec.input_size\n",
    "            exp_channel     = self.spec.exp_size\n",
    "            output_channel  = self.spec.out_size\n",
    "            self.features.append(Bottleneck(input_channel, output_channel, spec.kernel, spec.stride, exp_channel, spec.se, spec.nl))\n",
    "\n",
    "    # def build_last_layers(self, input_channel, last_channel):\n",
    "    #     # Building last layers\n",
    "    #     if self.mode == 'large':\n",
    "    #         last_conv = make_divisible(960 * width_mult)\n",
    "    #         self.features.append(conv_1x1_bn(input_channel, last_conv, nlin_layer=Hswish))\n",
    "    #         self.features.append(nn.AdaptiveAvgPool2d(1))\n",
    "    #         self.features.append(nn.Conv2d(last_conv, last_channel, 1, 1, 0))\n",
    "    #         self.features.append(Hswish(inplace=True))\n",
    "    #     elif self.mode == 'small':\n",
    "    #         # last_conv = make_divisible(576 * width_mult)\n",
    "    #         self.features.append(conv_1x1_bn(input_channel, last_channel, nlin_layer=Hswish))\n",
    "    #         # self.features.append(SEModule(last_conv))  # refer to paper Table2, but I think this is a mistake\n",
    "    #         self.features.append(nn.AdaptiveAvgPool2d(1))\n",
    "    #         self.features.append(nn.Conv2d(last_channel, num_classes, 1, 1, 0))\n",
    "    #         self.features.append(Hswish(inplace=True))\n"
   ],
   "outputs": [],
   "metadata": {}
  },
  {
   "cell_type": "code",
   "execution_count": 30,
   "source": [
    "mn3 = MobileNetV3()"
   ],
   "outputs": [
    {
     "output_type": "stream",
     "name": "stdout",
     "text": [
      "[MobileNetSpecification(kernel=3, exp_size=16, out=16, se=True, nl=ReLU(inplace=True), stride=2), MobileNetSpecification(kernel=3, exp_size=72, out=24, se=True, nl=ReLU(inplace=True), stride=2), MobileNetSpecification(kernel=3, exp_size=88, out=24, se=True, nl=ReLU(inplace=True), stride=1), MobileNetSpecification(kernel=5, exp_size=96, out=40, se=True, nl=Hswish(\n",
      "  (hsigmoid): Hsigmoid()\n",
      "), stride=2), MobileNetSpecification(kernel=5, exp_size=240, out=40, se=True, nl=Hswish(\n",
      "  (hsigmoid): Hsigmoid()\n",
      "), stride=1), MobileNetSpecification(kernel=5, exp_size=240, out=40, se=True, nl=Hswish(\n",
      "  (hsigmoid): Hsigmoid()\n",
      "), stride=1), MobileNetSpecification(kernel=5, exp_size=120, out=48, se=True, nl=Hswish(\n",
      "  (hsigmoid): Hsigmoid()\n",
      "), stride=1), MobileNetSpecification(kernel=5, exp_size=144, out=48, se=True, nl=Hswish(\n",
      "  (hsigmoid): Hsigmoid()\n",
      "), stride=1), MobileNetSpecification(kernel=5, exp_size=288, out=96, se=True, nl=Hswish(\n",
      "  (hsigmoid): Hsigmoid()\n",
      "), stride=2), MobileNetSpecification(kernel=5, exp_size=288, out=576, se=True, nl=Hswish(\n",
      "  (hsigmoid): Hsigmoid()\n",
      "), stride=1), MobileNetSpecification(kernel=5, exp_size=288, out=576, se=True, nl=Hswish(\n",
      "  (hsigmoid): Hsigmoid()\n",
      "), stride=1)]\n"
     ]
    }
   ],
   "metadata": {}
  }
 ],
 "metadata": {
  "orig_nbformat": 4,
  "language_info": {
   "name": "python",
   "version": "3.8.10"
  },
  "kernelspec": {
   "name": "python3",
   "display_name": "Python 3.8.10 64-bit"
  },
  "interpreter": {
   "hash": "31f2aee4e71d21fbe5cf8b01ff0e069b9275f58929596ceb00d14d90e3e16cd6"
  }
 },
 "nbformat": 4,
 "nbformat_minor": 2
}