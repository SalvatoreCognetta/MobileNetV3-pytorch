{
 "cells": [
  {
   "cell_type": "markdown",
   "source": [
    "# Setup the environment"
   ],
   "metadata": {}
  },
  {
   "cell_type": "markdown",
   "source": [
    "## Import"
   ],
   "metadata": {}
  },
  {
   "cell_type": "code",
   "execution_count": null,
   "source": [
    "# NN stuff\n",
    "import torch\n",
    "from torch import nn\n",
    "from torch.utils.data import Dataset, DataLoader\n",
    "\n",
    "from datetime import datetime\n",
    "from typing import Tuple, List, Optional\n",
    "from dataclasses import dataclass, fields, astuple\n",
    "\n",
    "# For cute animation bar\n",
    "from pprint import pprint\n",
    "from tqdm.auto import tqdm\n",
    "import matplotlib.pyplot as plt\n",
    "\n",
    "import random\n",
    "import numpy as np\n",
    "import pandas as pd\n",
    "\n",
    "import csv\n",
    "import os"
   ],
   "outputs": [],
   "metadata": {}
  },
  {
   "cell_type": "markdown",
   "source": [
    "## Utils"
   ],
   "metadata": {}
  },
  {
   "cell_type": "code",
   "execution_count": null,
   "source": [
    "# MobileNet Specification\n",
    "@dataclass\n",
    "class MobileNetSpecification:\n",
    "    '''Class that import MobileNet specifications.'''\n",
    "    k: int\n",
    "    exp_size: int\n",
    "    out: int\n",
    "    se: bool\n",
    "    nl: str\n",
    "    stride: int\n",
    "    file_path: str\n",
    "\n",
    "    # def parse_values(self):\n",
    "        # try:\n",
    "        #     self.time = datetime.strptime(self.time, '%Y-%m-%d %H:%M:%S.%f')\n",
    "        # except:\n",
    "        #     pass\n",
    "        # self.motocurr   = float(self.motocurr) if self.motocurr != 'NaN' else self.motocurr\n",
    "        # self.therm      = float(self.therm)    if self.therm    != 'NaN' else self.therm\n",
    "        # self.speed      = float(self.speed)    if self.speed    != 'NaN' else self.speed\n",
    "        # self.cmd_volt   = float(self.cmd_volt) if self.cmd_volt != 'NaN' else self.cmd_volt\n",
    "        # self.cmd_sign   = float(self.cmd_sign) if self.cmd_sign != 'NaN' else self.cmd_sign\n",
    "        # self.AOC_mode   = float(self.AOC_mode) if self.AOC_mode != 'NaN' else self.AOC_mode\n",
    "\n",
    "    def __iter__(self):\n",
    "        yield from astuple(self)\n",
    "\n",
    "    @staticmethod\n",
    "    def get_header() -> List[str]:\n",
    "        return [field.name for field in fields(MobileNetSpecification)]"
   ],
   "outputs": [],
   "metadata": {}
  },
  {
   "cell_type": "code",
   "execution_count": null,
   "source": [
    "#swish"
   ],
   "outputs": [],
   "metadata": {}
  },
  {
   "cell_type": "markdown",
   "source": [
    "# MobileNetv3"
   ],
   "metadata": {}
  },
  {
   "cell_type": "code",
   "execution_count": null,
   "source": [],
   "outputs": [],
   "metadata": {}
  }
 ],
 "metadata": {
  "orig_nbformat": 4,
  "language_info": {
   "name": "python"
  }
 },
 "nbformat": 4,
 "nbformat_minor": 2
}