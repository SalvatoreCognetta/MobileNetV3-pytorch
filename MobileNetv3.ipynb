{
 "cells": [
  {
   "cell_type": "markdown",
   "source": [
    "# Setup the environment"
   ],
   "metadata": {}
  },
  {
   "cell_type": "markdown",
   "source": [
    "## Import"
   ],
   "metadata": {}
  },
  {
   "cell_type": "code",
   "execution_count": 4,
   "source": [
    "# NN stuff\n",
    "import torch\n",
    "from torch import nn\n",
    "from torch.utils.data import Dataset, DataLoader\n",
    "\n",
    "from datetime import datetime\n",
    "from typing import Tuple, List, Optional\n",
    "from dataclasses import dataclass, fields, astuple\n",
    "\n",
    "# For cute animation bar\n",
    "from pprint import pprint\n",
    "from tqdm.auto import tqdm\n",
    "import matplotlib.pyplot as plt\n",
    "\n",
    "import json\n",
    "import random\n",
    "import numpy as np\n",
    "import pandas as pd\n",
    "\n",
    "import csv\n",
    "import os"
   ],
   "outputs": [],
   "metadata": {}
  },
  {
   "cell_type": "markdown",
   "source": [
    "## Path"
   ],
   "metadata": {}
  },
  {
   "cell_type": "code",
   "execution_count": null,
   "source": [
    "if 'google.colab' in str(get_ipython()):\n",
    "    print('Running on CoLab')\n",
    "    root_drive  = \"/content/drive/MyDrive/Colab Notebooks/MobileNetV3/\"\n",
    "    from google.colab import drive\n",
    "    drive.mount('/content/drive')\n",
    "else:\n",
    "    print('Not running on CoLab')\n",
    "    root_drive = './'\n",
    "\n",
    "\n",
    "spec_small_path = root_drive +  \"specification/mobilenetv3-small.json\"\n",
    "spec_large_path = root_drive +  \"specification/mobilenetv3-large.json\""
   ],
   "outputs": [],
   "metadata": {}
  },
  {
   "cell_type": "markdown",
   "source": [
    "## Utils"
   ],
   "metadata": {}
  },
  {
   "cell_type": "code",
   "execution_count": 7,
   "source": [
    "# MobileNet Specification\n",
    "@dataclass\n",
    "class MobileNetSpecification:\n",
    "    '''Class that contains MobileNet specifications.'''\n",
    "    k: int\n",
    "    exp_size: int\n",
    "    out: int\n",
    "    se: bool\n",
    "    nl: str\n",
    "    s: int\n",
    "\n",
    "    # The __post_init__ method, will be the last thing called by __init__.\n",
    "    def __post_init__(self):\n",
    "        self.k = int(self.k)\n",
    "        self.exp_size = int(self.exp_size)\n",
    "        self.out = int(self.out)\n",
    "        self.se = bool(self.se)\n",
    "        self.s = int(self.s)\n",
    "\n",
    "    def __iter__(self):\n",
    "        yield from astuple(self)\n",
    "\n",
    "    @staticmethod\n",
    "    def get_header() -> List[str]:\n",
    "        return [field.name for field in fields(MobileNetSpecification)]"
   ],
   "outputs": [],
   "metadata": {}
  },
  {
   "cell_type": "code",
   "execution_count": null,
   "source": [
    "#swish"
   ],
   "outputs": [],
   "metadata": {}
  },
  {
   "cell_type": "markdown",
   "source": [
    "# MobileNetv3"
   ],
   "metadata": {}
  },
  {
   "cell_type": "code",
   "execution_count": null,
   "source": [
    "class MobileNetV3(nn.Module):\n",
    "\tdef __init__(self, mode='small'):\n",
    "\t\tsuper(MobileNetV3, self).__init__()\n",
    "\t\tself.mode = mode\n",
    "\n",
    "\t\tif mode == 'small':\n",
    "\t\t\tself.spec_file = spec_small_path\n",
    "\t\telse:\n",
    "\t\t\tself.spec_file = spec_large_path\n",
    "\n",
    "\t\twith open(self.spec_file, \"r\") as spec_f:\n",
    "\t\t\tdata = json.load(spec_f)\n",
    "\t\t\tself.specifications = [MobileNetSpecification(*spec.values()) for spec in data]\t\n"
   ],
   "outputs": [],
   "metadata": {}
  }
 ],
 "metadata": {
  "orig_nbformat": 4,
  "language_info": {
   "name": "python",
   "version": "3.8.10"
  },
  "kernelspec": {
   "name": "python3",
   "display_name": "Python 3.8.10 64-bit"
  },
  "interpreter": {
   "hash": "31f2aee4e71d21fbe5cf8b01ff0e069b9275f58929596ceb00d14d90e3e16cd6"
  }
 },
 "nbformat": 4,
 "nbformat_minor": 2
}